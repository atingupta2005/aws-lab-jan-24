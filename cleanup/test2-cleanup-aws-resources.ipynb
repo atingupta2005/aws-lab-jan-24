{
 "cells": [
  {
   "cell_type": "code",
   "execution_count": 14,
   "id": "4aef690d-6629-4a93-b8ac-b7ec8591ace1",
   "metadata": {},
   "outputs": [],
   "source": [
    "import boto3"
   ]
  },
  {
   "cell_type": "code",
   "execution_count": 15,
   "id": "7270b750-0936-4e72-a41b-65b4d559a861",
   "metadata": {},
   "outputs": [],
   "source": [
    "def get_client(r_name, r_type):\n",
    "    client = boto3.client(r_type, region_name=r_name)\n",
    "    return client"
   ]
  },
  {
   "cell_type": "code",
   "execution_count": 3,
   "id": "3e889bbd-379d-479f-9424-1c41a0b4e824",
   "metadata": {},
   "outputs": [],
   "source": [
    "def terminate_all_ec2(c_session):\n",
    "    for e in c_session.instances.all():\n",
    "        print(\"Terminating: \", e.id)\n",
    "        e.terminate()"
   ]
  },
  {
   "cell_type": "code",
   "execution_count": 4,
   "id": "51f34b07-c1db-4b03-adef-a978008240f1",
   "metadata": {},
   "outputs": [],
   "source": [
    "def terminate_all_ec2_volumes(c_session):\n",
    "    for v in c_session.volumes.all():\n",
    "        print(\"Terminating Volume: \", v.id)\n",
    "        v.delete()"
   ]
  },
  {
   "cell_type": "code",
   "execution_count": 5,
   "id": "add11a63-7f33-4f1e-af21-c79185fdcd6a",
   "metadata": {},
   "outputs": [],
   "source": [
    "def terminate_all_ec2_snapshots(c_session):\n",
    "    for s in c_session.snapshots.all():\n",
    "        print(\"Terminating Snapshots: \", s.id)\n",
    "        s.delete()"
   ]
  },
  {
   "cell_type": "code",
   "execution_count": 6,
   "id": "1688190e-1487-4fac-89e8-68699edd9afd",
   "metadata": {},
   "outputs": [],
   "source": [
    "def terminate_all_ec2_amis(c_session):\n",
    "    for ami in c_session.amis.all():\n",
    "        print(\"Terminating AMIs: \", v.ami)\n",
    "        ami.delete()"
   ]
  },
  {
   "cell_type": "code",
   "execution_count": 8,
   "id": "aa663740-40cd-4ee6-9069-e1261b5949dc",
   "metadata": {},
   "outputs": [],
   "source": [
    "## For testing\n",
    "c_session = get_resources('us-east-1', 'ec2')"
   ]
  },
  {
   "cell_type": "code",
   "execution_count": 9,
   "id": "043cded5-9423-428e-bdb1-97e8d0cdf00e",
   "metadata": {},
   "outputs": [],
   "source": [
    "aws_resources = c_session.classic_addresses.all()"
   ]
  },
  {
   "cell_type": "code",
   "execution_count": 10,
   "id": "0665e316-8641-4ebc-95c3-739da90e6942",
   "metadata": {},
   "outputs": [
    {
     "name": "stdout",
     "output_type": "stream",
     "text": [
      "ec2.classic_addressesCollection(ec2.ServiceResource(), ec2.ClassicAddress)\n"
     ]
    }
   ],
   "source": [
    "print(aws_resources)\n",
    "for aws_resource in aws_resources:\n",
    "    print(\"Terminating aws resource: \")\n",
    "    print(aws_resource.id)\n",
    "    aws_resource.delete()"
   ]
  },
  {
   "cell_type": "code",
   "execution_count": 12,
   "id": "19c10341-1ac3-4b5f-9d1a-c1b9a1312a8f",
   "metadata": {},
   "outputs": [
    {
     "data": {
      "text/plain": [
       "['ClassicAddress',\n",
       " 'DhcpOptions',\n",
       " 'Image',\n",
       " 'Instance',\n",
       " 'InternetGateway',\n",
       " 'KeyPair',\n",
       " 'NetworkAcl',\n",
       " 'NetworkInterface',\n",
       " 'NetworkInterfaceAssociation',\n",
       " 'PlacementGroup',\n",
       " 'Route',\n",
       " 'RouteTable',\n",
       " 'RouteTableAssociation',\n",
       " 'SecurityGroup',\n",
       " 'Snapshot',\n",
       " 'Subnet',\n",
       " 'Tag',\n",
       " 'Volume',\n",
       " 'Vpc',\n",
       " 'VpcAddress',\n",
       " 'VpcPeeringConnection']"
      ]
     },
     "execution_count": 12,
     "metadata": {},
     "output_type": "execute_result"
    }
   ],
   "source": [
    "aws_resources = c_session.get_available_subresources()\n",
    "aws_resources"
   ]
  },
  {
   "cell_type": "code",
   "execution_count": 16,
   "id": "7e944494-8759-4cdf-a1e0-c994878b0acb",
   "metadata": {},
   "outputs": [],
   "source": [
    "## For testing\n",
    "c_session = get_client('us-east-1', 'ec2')"
   ]
  },
  {
   "cell_type": "code",
   "execution_count": 17,
   "id": "58132555-84a6-49ee-a0cf-159f321e2a27",
   "metadata": {},
   "outputs": [],
   "source": [
    "aws_resources = c_session.describe_volumes()"
   ]
  },
  {
   "cell_type": "code",
   "execution_count": 18,
   "id": "e6d30aa3-0198-406c-b81d-5a21328f0604",
   "metadata": {},
   "outputs": [
    {
     "data": {
      "text/plain": [
       "{'Volumes': [],\n",
       " 'ResponseMetadata': {'RequestId': '2fc9e51c-936e-4f9e-8712-82709fd8923a',\n",
       "  'HTTPStatusCode': 200,\n",
       "  'HTTPHeaders': {'x-amzn-requestid': '2fc9e51c-936e-4f9e-8712-82709fd8923a',\n",
       "   'cache-control': 'no-cache, no-store',\n",
       "   'strict-transport-security': 'max-age=31536000; includeSubDomains',\n",
       "   'content-type': 'text/xml;charset=UTF-8',\n",
       "   'content-length': '221',\n",
       "   'date': 'Tue, 23 Jan 2024 12:09:09 GMT',\n",
       "   'server': 'AmazonEC2'},\n",
       "  'RetryAttempts': 0}}"
      ]
     },
     "execution_count": 18,
     "metadata": {},
     "output_type": "execute_result"
    }
   ],
   "source": [
    "aws_resources"
   ]
  },
  {
   "cell_type": "code",
   "execution_count": 19,
   "id": "3e0db403-5b71-4b99-bbe1-bf0629b80795",
   "metadata": {},
   "outputs": [],
   "source": [
    "aws_resources = c_session.describe_public_ipv4_pools()"
   ]
  },
  {
   "cell_type": "code",
   "execution_count": 20,
   "id": "3d241952-2923-43bf-88f3-a7b52ba502f9",
   "metadata": {},
   "outputs": [
    {
     "data": {
      "text/plain": [
       "{'PublicIpv4Pools': [],\n",
       " 'ResponseMetadata': {'RequestId': 'dce737a7-b8e4-4bcc-beff-1702354b8c8a',\n",
       "  'HTTPStatusCode': 200,\n",
       "  'HTTPHeaders': {'x-amzn-requestid': 'dce737a7-b8e4-4bcc-beff-1702354b8c8a',\n",
       "   'cache-control': 'no-cache, no-store',\n",
       "   'strict-transport-security': 'max-age=31536000; includeSubDomains',\n",
       "   'vary': 'accept-encoding',\n",
       "   'content-type': 'text/xml;charset=UTF-8',\n",
       "   'transfer-encoding': 'chunked',\n",
       "   'date': 'Tue, 23 Jan 2024 12:10:12 GMT',\n",
       "   'server': 'AmazonEC2'},\n",
       "  'RetryAttempts': 0}}"
      ]
     },
     "execution_count": 20,
     "metadata": {},
     "output_type": "execute_result"
    }
   ],
   "source": [
    "aws_resources"
   ]
  },
  {
   "cell_type": "code",
   "execution_count": 21,
   "id": "7ba147f5-e727-49f5-af16-33f2ff50be62",
   "metadata": {},
   "outputs": [],
   "source": [
    "aws_resources = c_session.describe_addresses()"
   ]
  },
  {
   "cell_type": "code",
   "execution_count": null,
   "id": "7d8b07c6-0caf-40cf-8674-8888f28a7e6d",
   "metadata": {},
   "outputs": [],
   "source": []
  }
 ],
 "metadata": {
  "kernelspec": {
   "display_name": "Python 3 (ipykernel)",
   "language": "python",
   "name": "python3"
  },
  "language_info": {
   "codemirror_mode": {
    "name": "ipython",
    "version": 3
   },
   "file_extension": ".py",
   "mimetype": "text/x-python",
   "name": "python",
   "nbconvert_exporter": "python",
   "pygments_lexer": "ipython3",
   "version": "3.9.7"
  }
 },
 "nbformat": 4,
 "nbformat_minor": 5
}
