{
 "cells": [
  {
   "cell_type": "code",
   "execution_count": 17,
   "id": "4aef690d-6629-4a93-b8ac-b7ec8591ace1",
   "metadata": {},
   "outputs": [],
   "source": [
    "import boto3\n",
    "import time\n",
    "import traceback"
   ]
  },
  {
   "cell_type": "code",
   "execution_count": 18,
   "id": "7270b750-0936-4e72-a41b-65b4d559a861",
   "metadata": {},
   "outputs": [],
   "source": [
    "def get_client(r_name, r_type):\n",
    "    client = boto3.client(r_type, region_name=r_name)\n",
    "    return client"
   ]
  },
  {
   "cell_type": "code",
   "execution_count": 3,
   "id": "b92c1cfb-d2d5-4ab3-aa4c-f38b69fc412a",
   "metadata": {},
   "outputs": [],
   "source": [
    "def delete_ec2_instances(c_session):\n",
    "    print(\"Starting delete_ec2_instances\")\n",
    "    try:\n",
    "        all_instances = c_session.describe_instances()\n",
    "        for reservations in all_instances['Reservations']:\n",
    "            for instance in reservations['Instances']:\n",
    "                instance_id = instance['InstanceId']\n",
    "                print(f\"Terminating instance - {instance_id}\")\n",
    "                c_session.terminate_instances(InstanceIds=[instance_id])\n",
    "                print(f\"Terminated instance - {instance_id}\")\n",
    "    except:\n",
    "        strError = traceback.format_exc()\n",
    "        \n",
    "        print(strError)\n",
    "    finally:\n",
    "        print(\"Stopping delete_ec2_instances\")"
   ]
  },
  {
   "cell_type": "code",
   "execution_count": 4,
   "id": "8d10278e-73e7-4f6d-a245-0c6288173ec6",
   "metadata": {},
   "outputs": [],
   "source": [
    "def delete_ec2_amis(c_session):\n",
    "    print(\"Starting delete_ec2_amis\")\n",
    "    try:\n",
    "        aws_resources = c_session.describe_images(Owners=[\"357841589350\"])\n",
    "        for aws_resource in aws_resources['Images']:\n",
    "            aws_resource_id = aws_resource['ImageId']\n",
    "            print(f\"Deleting AWS Resource: {aws_resource_id}\")\n",
    "            c_session.deregister_image(ImageId=aws_resource_id)\n",
    "            print(f\"AWS Resource deleted - {aws_resource_id}\")\n",
    "    except:\n",
    "        print(traceback.format_exc())\n",
    "    print(\"Stopping delete_ec2_amis\")"
   ]
  },
  {
   "cell_type": "code",
   "execution_count": 5,
   "id": "6cdcd8e5-3edc-4e11-a99d-8a56af63c9d4",
   "metadata": {},
   "outputs": [],
   "source": [
    "def delete_ec2_snapshots(c_session):\n",
    "    print(\"Starting delete_ec2_snapshots\")\n",
    "    try:\n",
    "        aws_resources = c_session.describe_snapshots(OwnerIds=[\"357841589350\"],MaxResults=10,)\n",
    "        for aws_resource in aws_resources['Snapshots']:\n",
    "            snapshot_id = aws_resource['SnapshotId']\n",
    "            print(f\"Deleting AWS Resource: {snapshot_id}\")\n",
    "            c_session.delete_snapshot(SnapshotId=snapshot_id)\n",
    "            print(f\"Resource deleted - {snapshot_id}\")    \n",
    "    except:\n",
    "        print(traceback.format_exc())\n",
    "    print(\"Stopping delete_ec2_snapshots\")"
   ]
  },
  {
   "cell_type": "code",
   "execution_count": 6,
   "id": "3e0ce09f-06c0-4c9b-8ea6-3f227e787d7d",
   "metadata": {},
   "outputs": [],
   "source": [
    "def delete_elbv2(c_session):\n",
    "    print(\"Starting delete_elbv2\")\n",
    "    try:\n",
    "        aws_resources = c_session.describe_load_balancers()\n",
    "        for aws_resource in aws_resources[list(aws_resources.keys())[0]]:\n",
    "            print(f\"Deleting aws resource: {aws_resource['LoadBalancerArn']}\")\n",
    "            c_session.delete_load_balancer(LoadBalancerArn=aws_resource['LoadBalancerArn'])\n",
    "            print(f\"Deleted aws resource: {aws_resource['LoadBalancerArn']}\")\n",
    "    except:\n",
    "        print(traceback.format_exc())\n",
    "    print(\"Stopping delete_elbv2\")"
   ]
  },
  {
   "cell_type": "code",
   "execution_count": 7,
   "id": "d495f966-6efb-41da-8bbf-ebccf8c44c9d",
   "metadata": {},
   "outputs": [],
   "source": [
    "def delete_nat_gateways(c_session):\n",
    "    print(\"Starting delete_nat_gateways\")\n",
    "    try:\n",
    "        aws_resources = c_session.describe_nat_gateways()\n",
    "        for aws_resource in aws_resources[list(aws_resources.keys())[0]]:\n",
    "            aws_resource_id = aws_resource['NatGatewayId']\n",
    "            print(f\"Deleting aws resource: {aws_resource_id}\")\n",
    "            c_session.delete_nat_gateway(NatGatewayId=aws_resource_id)\n",
    "            print(f\"AWS Resource deleted - {aws_resource_id}\")\n",
    "    except:\n",
    "        print(traceback.format_exc())\n",
    "    print(\"Stopping delete_nat_gateways\")"
   ]
  },
  {
   "cell_type": "code",
   "execution_count": 8,
   "id": "1824e5bc-4912-4621-9657-27a72a9f4531",
   "metadata": {},
   "outputs": [],
   "source": [
    "def delete_elastic_ips(c_session):\n",
    "    print(\"Starting delete_elastic_ips\")\n",
    "    try:\n",
    "        aws_resources = c_session.describe_addresses()\n",
    "        for aws_resource in aws_resources[list(aws_resources.keys())[0]]:\n",
    "            print(aws_resource)\n",
    "            print(f\"Deleting aws resource\")\n",
    "            if 'AssociationId' in aws_resource.keys():\n",
    "                c_session.disassociate_address(AssociationId=aws_resource['AssociationId'])\n",
    "            c_session.release_address(AllocationId=aws_resource['AllocationId'])\n",
    "            print(f\"AWS Resource deleted - {aws_resource['AllocationId']}\")\n",
    "    except:\n",
    "        print(traceback.format_exc())\n",
    "\n",
    "    print(\"Stopping delete_elastic_ips\")"
   ]
  },
  {
   "cell_type": "code",
   "execution_count": 9,
   "id": "4e45c9a4-2a5d-4057-a5a1-a31f7485ebaa",
   "metadata": {},
   "outputs": [],
   "source": [
    "def delete_asg(c_session):\n",
    "    print(\"Starting delete_asg\")\n",
    "    try:\n",
    "        aws_resources = c_session.describe_addresses()\n",
    "        for aws_resource in aws_resources[list(aws_resources.keys())[0]]:\n",
    "            print(aws_resource)\n",
    "            print(f\"Deleting aws resource\")\n",
    "            c_session.delete_auto_scaling_group(AutoScalingGroupName=aws_resource['AutoScalingGroupName'], ForceDelete=True)\n",
    "            print(f\"AWS Resource deleted - {aws_resource['AutoScalingGroupName']}\")\n",
    "    except:\n",
    "        print(traceback.format_exc())\n",
    "\n",
    "    print(\"Stopping delete_asg\")"
   ]
  },
  {
   "cell_type": "code",
   "execution_count": 31,
   "id": "50f5da10-f4a6-419d-a1fb-9d3deff3e654",
   "metadata": {},
   "outputs": [],
   "source": [
    "def delete_vpcs(c_session):\n",
    "    print(\"Starting delete_asg\")\n",
    "    try:\n",
    "        aws_resources = c_session.describe_vpcs()\n",
    "        for aws_resource in aws_resources[list(aws_resources.keys())[0]]:\n",
    "            if aws_resource['IsDefault'] == False:\n",
    "                print(f\"Deleting aws resource\")\n",
    "                c_session.delete_vpcs(VpcId=aws_resource['VpcId'])\n",
    "                print(f\"AWS Resource deleted - {aws_resource['VpcId']}\")\n",
    "    except:\n",
    "        print(traceback.format_exc())\n",
    "\n",
    "    print(\"Stopping delete_asg\")"
   ]
  },
  {
   "cell_type": "code",
   "execution_count": 15,
   "id": "684542b6-6f05-4b90-9c22-edb984e1f6af",
   "metadata": {},
   "outputs": [],
   "source": [
    "ec2_client = boto3.client('ec2')\n",
    "response = ec2_client.describe_regions(AllRegions=False)\n",
    "#print(response['Regions'])"
   ]
  },
  {
   "cell_type": "code",
   "execution_count": 32,
   "id": "45f2745f-bd08-4f6f-a8ae-c8dbbb1b659a",
   "metadata": {},
   "outputs": [
    {
     "name": "stdout",
     "output_type": "stream",
     "text": [
      "----------------------Working with region: ap-south-1\n",
      "Starting delete_asg\n",
      "Stopping delete_asg\n",
      "----------------------Working with region: eu-north-1\n",
      "Starting delete_asg\n",
      "Stopping delete_asg\n",
      "----------------------Working with region: eu-west-3\n",
      "Starting delete_asg\n",
      "Stopping delete_asg\n",
      "----------------------Working with region: eu-west-2\n",
      "Starting delete_asg\n",
      "Stopping delete_asg\n",
      "----------------------Working with region: eu-west-1\n",
      "Starting delete_asg\n",
      "Stopping delete_asg\n",
      "----------------------Working with region: ap-northeast-3\n",
      "Starting delete_asg\n",
      "Stopping delete_asg\n",
      "----------------------Working with region: ap-northeast-2\n",
      "Starting delete_asg\n",
      "Stopping delete_asg\n",
      "----------------------Working with region: ap-northeast-1\n",
      "Starting delete_asg\n",
      "Stopping delete_asg\n",
      "----------------------Working with region: ca-central-1\n",
      "Starting delete_asg\n",
      "Stopping delete_asg\n",
      "----------------------Working with region: sa-east-1\n",
      "Starting delete_asg\n",
      "Stopping delete_asg\n",
      "----------------------Working with region: ap-southeast-1\n",
      "Starting delete_asg\n",
      "Stopping delete_asg\n",
      "----------------------Working with region: ap-southeast-2\n",
      "Starting delete_asg\n",
      "Stopping delete_asg\n",
      "----------------------Working with region: eu-central-1\n",
      "Starting delete_asg\n",
      "Stopping delete_asg\n",
      "----------------------Working with region: us-east-1\n",
      "Starting delete_asg\n",
      "Stopping delete_asg\n",
      "----------------------Working with region: us-east-2\n",
      "Starting delete_asg\n",
      "Stopping delete_asg\n",
      "----------------------Working with region: us-west-1\n",
      "Starting delete_asg\n",
      "Stopping delete_asg\n",
      "----------------------Working with region: us-west-2\n",
      "Starting delete_asg\n",
      "Stopping delete_asg\n"
     ]
    }
   ],
   "source": [
    "for r in response['Regions']:\n",
    "    try:\n",
    "        #time.sleep(1)\n",
    "        r_name = r['RegionName']\n",
    "        print(f\"----------------------Working with region: {r_name}\")\n",
    "        c_session = get_client(r_name, 'ec2')\n",
    "        #delete_asg(c_session)\n",
    "        c_session = get_client(r_name, 'ec2')\n",
    "        #delete_ec2_instances(c_session)\n",
    "        #delete_ec2_amis(c_session)\n",
    "        #delete_ec2_snapshots(c_session)\n",
    "        c_session = get_client(r_name, 'elbv2')\n",
    "        #delete_elbv2(c_session)\n",
    "        c_session = get_client(r_name, 'ec2')\n",
    "        #delete_nat_gateways(c_session)\n",
    "        #delete_elastic_ips(c_session)\n",
    "        delete_vpcs(c_session)\n",
    "    except:\n",
    "        print(f\"Error while working with region {r_name}\")"
   ]
  },
  {
   "cell_type": "code",
   "execution_count": 19,
   "id": "0f7df582-8063-4527-bce8-0a41ca2d4f55",
   "metadata": {},
   "outputs": [],
   "source": [
    "aws_resources = c_session.describe_vpcs()"
   ]
  },
  {
   "cell_type": "code",
   "execution_count": 33,
   "id": "8b177684-7e14-4025-a1ca-fbcc776bc562",
   "metadata": {},
   "outputs": [],
   "source": [
    "c_session = get_client(\"ap-southeast-2\", 'ec2')"
   ]
  },
  {
   "cell_type": "code",
   "execution_count": 35,
   "id": "d881043e-8fda-445f-a395-38a8215727c3",
   "metadata": {},
   "outputs": [
    {
     "name": "stdout",
     "output_type": "stream",
     "text": [
      "{'CidrBlock': '10.0.0.0/16', 'DhcpOptionsId': 'dopt-07f4ed5856bfb7da1', 'State': 'available', 'VpcId': 'vpc-06189fa2241b93c7c', 'OwnerId': '357841589350', 'InstanceTenancy': 'default', 'CidrBlockAssociationSet': [{'AssociationId': 'vpc-cidr-assoc-038df33502d0b2bd6', 'CidrBlock': '10.0.0.0/16', 'CidrBlockState': {'State': 'associated'}}], 'IsDefault': False, 'Tags': [{'Key': 'Name', 'Value': 'dev-project-vpc'}]}\n",
      "Deleting aws resource\n",
      "AWS Resource deleted - {'CidrBlock': '10.0.0.0/16', 'DhcpOptionsId': 'dopt-07f4ed5856bfb7da1', 'State': 'available', 'VpcId': 'vpc-06189fa2241b93c7c', 'OwnerId': '357841589350', 'InstanceTenancy': 'default', 'CidrBlockAssociationSet': [{'AssociationId': 'vpc-cidr-assoc-038df33502d0b2bd6', 'CidrBlock': '10.0.0.0/16', 'CidrBlockState': {'State': 'associated'}}], 'IsDefault': False, 'Tags': [{'Key': 'Name', 'Value': 'dev-project-vpc'}]}\n",
      "{'CidrBlock': '10.0.0.0/16', 'DhcpOptionsId': 'dopt-07f4ed5856bfb7da1', 'State': 'available', 'VpcId': 'vpc-01904c3aada02eb95', 'OwnerId': '357841589350', 'InstanceTenancy': 'default', 'CidrBlockAssociationSet': [{'AssociationId': 'vpc-cidr-assoc-0aa69ba40076a725d', 'CidrBlock': '10.0.0.0/16', 'CidrBlockState': {'State': 'associated'}}], 'IsDefault': False, 'Tags': [{'Key': 'Name', 'Value': 'project-vpc'}]}\n",
      "Deleting aws resource\n",
      "AWS Resource deleted - {'CidrBlock': '10.0.0.0/16', 'DhcpOptionsId': 'dopt-07f4ed5856bfb7da1', 'State': 'available', 'VpcId': 'vpc-01904c3aada02eb95', 'OwnerId': '357841589350', 'InstanceTenancy': 'default', 'CidrBlockAssociationSet': [{'AssociationId': 'vpc-cidr-assoc-0aa69ba40076a725d', 'CidrBlock': '10.0.0.0/16', 'CidrBlockState': {'State': 'associated'}}], 'IsDefault': False, 'Tags': [{'Key': 'Name', 'Value': 'project-vpc'}]}\n",
      "{'CidrBlock': '172.31.0.0/16', 'DhcpOptionsId': 'dopt-07f4ed5856bfb7da1', 'State': 'available', 'VpcId': 'vpc-05086239bb8cf288c', 'OwnerId': '357841589350', 'InstanceTenancy': 'default', 'CidrBlockAssociationSet': [{'AssociationId': 'vpc-cidr-assoc-09f2fb85ebf803943', 'CidrBlock': '172.31.0.0/16', 'CidrBlockState': {'State': 'associated'}}], 'IsDefault': True}\n",
      "{'CidrBlock': '10.0.0.0/16', 'DhcpOptionsId': 'dopt-07f4ed5856bfb7da1', 'State': 'available', 'VpcId': 'vpc-03fd2ec8c64b656ce', 'OwnerId': '357841589350', 'InstanceTenancy': 'default', 'CidrBlockAssociationSet': [{'AssociationId': 'vpc-cidr-assoc-08ab73912ee5dd5cb', 'CidrBlock': '10.0.0.0/16', 'CidrBlockState': {'State': 'associated'}}], 'IsDefault': False, 'Tags': [{'Key': 'Name', 'Value': 'akhildemo-vpc'}]}\n",
      "Deleting aws resource\n",
      "AWS Resource deleted - {'CidrBlock': '10.0.0.0/16', 'DhcpOptionsId': 'dopt-07f4ed5856bfb7da1', 'State': 'available', 'VpcId': 'vpc-03fd2ec8c64b656ce', 'OwnerId': '357841589350', 'InstanceTenancy': 'default', 'CidrBlockAssociationSet': [{'AssociationId': 'vpc-cidr-assoc-08ab73912ee5dd5cb', 'CidrBlock': '10.0.0.0/16', 'CidrBlockState': {'State': 'associated'}}], 'IsDefault': False, 'Tags': [{'Key': 'Name', 'Value': 'akhildemo-vpc'}]}\n",
      "{'CidrBlock': '10.0.0.0/16', 'DhcpOptionsId': 'dopt-07f4ed5856bfb7da1', 'State': 'available', 'VpcId': 'vpc-029bacde59f96ad2e', 'OwnerId': '357841589350', 'InstanceTenancy': 'default', 'CidrBlockAssociationSet': [{'AssociationId': 'vpc-cidr-assoc-0749f9570e87232cb', 'CidrBlock': '10.0.0.0/16', 'CidrBlockState': {'State': 'associated'}}], 'IsDefault': False, 'Tags': [{'Key': 'Name', 'Value': 'rohini-test-VPC'}]}\n",
      "Deleting aws resource\n",
      "AWS Resource deleted - {'CidrBlock': '10.0.0.0/16', 'DhcpOptionsId': 'dopt-07f4ed5856bfb7da1', 'State': 'available', 'VpcId': 'vpc-029bacde59f96ad2e', 'OwnerId': '357841589350', 'InstanceTenancy': 'default', 'CidrBlockAssociationSet': [{'AssociationId': 'vpc-cidr-assoc-0749f9570e87232cb', 'CidrBlock': '10.0.0.0/16', 'CidrBlockState': {'State': 'associated'}}], 'IsDefault': False, 'Tags': [{'Key': 'Name', 'Value': 'rohini-test-VPC'}]}\n"
     ]
    }
   ],
   "source": [
    "\n",
    "for aws_resource in aws_resources[list(aws_resources.keys())[0]]:\n",
    "    print(aws_resource)\n",
    "    if aws_resource['IsDefault'] == False:\n",
    "        print(f\"Deleting aws resource\")\n",
    "        #c_session.delete_auto_scaling_group(AutoScalingGroupName=aws_resource['AutoScalingGroupName'], ForceDelete=True)\n",
    "        print(f\"AWS Resource deleted - {aws_resource}\")"
   ]
  },
  {
   "cell_type": "code",
   "execution_count": 29,
   "id": "a24a8eee-4bf5-4354-b41a-418f8d5d1630",
   "metadata": {},
   "outputs": [],
   "source": []
  },
  {
   "cell_type": "code",
   "execution_count": 30,
   "id": "2d0983f2-f637-4b44-b5d1-d8435c7e4439",
   "metadata": {},
   "outputs": [
    {
     "name": "stdout",
     "output_type": "stream",
     "text": [
      "Starting delete_asg\n",
      "Stopping delete_asg\n"
     ]
    }
   ],
   "source": [
    "delete_vpcs(c_session)"
   ]
  }
 ],
 "metadata": {
  "kernelspec": {
   "display_name": "Python 3 (ipykernel)",
   "language": "python",
   "name": "python3"
  },
  "language_info": {
   "codemirror_mode": {
    "name": "ipython",
    "version": 3
   },
   "file_extension": ".py",
   "mimetype": "text/x-python",
   "name": "python",
   "nbconvert_exporter": "python",
   "pygments_lexer": "ipython3",
   "version": "3.9.7"
  }
 },
 "nbformat": 4,
 "nbformat_minor": 5
}
