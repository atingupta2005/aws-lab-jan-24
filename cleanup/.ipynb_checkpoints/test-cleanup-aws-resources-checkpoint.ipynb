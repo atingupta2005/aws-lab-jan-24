{
 "cells": [
  {
   "cell_type": "code",
   "execution_count": 1,
   "id": "4aef690d-6629-4a93-b8ac-b7ec8591ace1",
   "metadata": {},
   "outputs": [],
   "source": [
    "import boto3"
   ]
  },
  {
   "cell_type": "code",
   "execution_count": 2,
   "id": "7270b750-0936-4e72-a41b-65b4d559a861",
   "metadata": {},
   "outputs": [],
   "source": [
    "def get_resources(r_name, r_type):\n",
    "    client = boto3.resource(r_type, region_name=r_name)\n",
    "    return client"
   ]
  },
  {
   "cell_type": "code",
   "execution_count": 3,
   "id": "3e889bbd-379d-479f-9424-1c41a0b4e824",
   "metadata": {},
   "outputs": [],
   "source": [
    "def terminate_all_ec2(c_session):\n",
    "    for e in c_session.instances.all():\n",
    "        print(\"Terminating: \", e.id)\n",
    "        e.terminate()"
   ]
  },
  {
   "cell_type": "code",
   "execution_count": 4,
   "id": "51f34b07-c1db-4b03-adef-a978008240f1",
   "metadata": {},
   "outputs": [],
   "source": [
    "def terminate_all_ec2_volumes(c_session):\n",
    "    for v in c_session.volumes.all():\n",
    "        print(\"Terminating Volume: \", v.id)\n",
    "        v.delete()"
   ]
  },
  {
   "cell_type": "code",
   "execution_count": 5,
   "id": "add11a63-7f33-4f1e-af21-c79185fdcd6a",
   "metadata": {},
   "outputs": [],
   "source": [
    "def terminate_all_ec2_snapshots(c_session):\n",
    "    for s in c_session.snapshots.all():\n",
    "        print(\"Terminating Snapshots: \", s.id)\n",
    "        s.delete()"
   ]
  },
  {
   "cell_type": "code",
   "execution_count": 6,
   "id": "1688190e-1487-4fac-89e8-68699edd9afd",
   "metadata": {},
   "outputs": [],
   "source": [
    "def terminate_all_ec2_amis(c_session):\n",
    "    for ami in c_session.amis.all():\n",
    "        print(\"Terminating AMIs: \", v.ami)\n",
    "        ami.delete()"
   ]
  },
  {
   "cell_type": "code",
   "execution_count": 7,
   "id": "aa663740-40cd-4ee6-9069-e1261b5949dc",
   "metadata": {},
   "outputs": [],
   "source": [
    "## For testing\n",
    "c_session = get_resources('us-east-1', 'ec2')\n",
    "\n"
   ]
  },
  {
   "cell_type": "code",
   "execution_count": 8,
   "id": "043cded5-9423-428e-bdb1-97e8d0cdf00e",
   "metadata": {},
   "outputs": [],
   "source": [
    "aws_resources = c_session.images.all()"
   ]
  },
  {
   "cell_type": "code",
   "execution_count": null,
   "id": "0665e316-8641-4ebc-95c3-739da90e6942",
   "metadata": {},
   "outputs": [
    {
     "name": "stdout",
     "output_type": "stream",
     "text": [
      "ec2.imagesCollection(ec2.ServiceResource(), ec2.Image)\n"
     ]
    }
   ],
   "source": [
    "print(aws_resources)\n",
    "for aws_resource in aws_resources:\n",
    "    print(\"Terminating snapshot: \")\n",
    "    print(aws_resource.id)\n",
    "    aws_resource.delete()"
   ]
  },
  {
   "cell_type": "code",
   "execution_count": null,
   "id": "19c10341-1ac3-4b5f-9d1a-c1b9a1312a8f",
   "metadata": {},
   "outputs": [],
   "source": [
    "aws_resources"
   ]
  }
 ],
 "metadata": {
  "kernelspec": {
   "display_name": "Python 3 (ipykernel)",
   "language": "python",
   "name": "python3"
  },
  "language_info": {
   "codemirror_mode": {
    "name": "ipython",
    "version": 3
   },
   "file_extension": ".py",
   "mimetype": "text/x-python",
   "name": "python",
   "nbconvert_exporter": "python",
   "pygments_lexer": "ipython3",
   "version": "3.9.7"
  }
 },
 "nbformat": 4,
 "nbformat_minor": 5
}
