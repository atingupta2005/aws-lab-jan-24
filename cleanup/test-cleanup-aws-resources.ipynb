{
 "cells": [
  {
   "cell_type": "code",
   "execution_count": 37,
   "id": "4aef690d-6629-4a93-b8ac-b7ec8591ace1",
   "metadata": {},
   "outputs": [],
   "source": [
    "import boto3"
   ]
  },
  {
   "cell_type": "code",
   "execution_count": 38,
   "id": "7270b750-0936-4e72-a41b-65b4d559a861",
   "metadata": {},
   "outputs": [],
   "source": [
    "def get_client(r_name, r_type):\n",
    "    client = boto3.client(r_type, region_name=r_name)\n",
    "    return client"
   ]
  },
  {
   "cell_type": "code",
   "execution_count": 40,
   "id": "747d438b-2400-4e8e-9686-2f62207ba672",
   "metadata": {},
   "outputs": [],
   "source": [
    "## For testing\n",
    "c_session = get_client('us-east-1', 'ec2')"
   ]
  },
  {
   "cell_type": "code",
   "execution_count": null,
   "id": "113acde5-6df2-43a8-b95a-0f3991abbc18",
   "metadata": {},
   "outputs": [],
   "source": [
    "aws_resources = c_session."
   ]
  },
  {
   "cell_type": "code",
   "execution_count": 29,
   "id": "97f4b27b-ee05-4e64-ab54-3548974f5294",
   "metadata": {},
   "outputs": [],
   "source": [
    "aws_resources = c_session.describe_load_balancers()"
   ]
  },
  {
   "cell_type": "code",
   "execution_count": 36,
   "id": "6d343728-ca5e-44bc-99e1-5e78b5456c08",
   "metadata": {},
   "outputs": [
    {
     "name": "stdout",
     "output_type": "stream",
     "text": [
      "Deleting aws resource: arn:aws:elasticloadbalancing:us-east-1:357841589350:loadbalancer/app/ALB-Rohini/2db54724d715ea91\n",
      "Deleting aws resource: arn:aws:elasticloadbalancing:us-east-1:357841589350:loadbalancer/app/webserver/a93bd53c75601eee\n",
      "Deleting aws resource: arn:aws:elasticloadbalancing:us-east-1:357841589350:loadbalancer/app/syedlb/2b8853c9b991d390\n",
      "Deleting aws resource: arn:aws:elasticloadbalancing:us-east-1:357841589350:loadbalancer/app/AJdemowebserverLB/ad75ba4c80da0f13\n",
      "Deleting aws resource: arn:aws:elasticloadbalancing:us-east-1:357841589350:loadbalancer/app/Akhil/80a4ada54735de18\n",
      "Deleting aws resource: arn:aws:elasticloadbalancing:us-east-1:357841589350:loadbalancer/app/ALB-Ganesh/5287a3bb010e2f5a\n"
     ]
    }
   ],
   "source": [
    "for aws_resource in aws_resources[list(aws_resources.keys())[0]]:\n",
    "    try:\n",
    "        print(f\"Deleting aws resource: {aws_resource['LoadBalancerArn']}\")\n",
    "        c_session.delete_load_balancer(LoadBalancerArn=aws_resource['LoadBalancerArn'])\n",
    "    except:\n",
    "        #print(traceback.format_exc())\n",
    "        pass\n",
    "    #print(f\"AWS Resource deleted - {aws_resource_id}\")"
   ]
  }
 ],
 "metadata": {
  "kernelspec": {
   "display_name": "Python 3 (ipykernel)",
   "language": "python",
   "name": "python3"
  },
  "language_info": {
   "codemirror_mode": {
    "name": "ipython",
    "version": 3
   },
   "file_extension": ".py",
   "mimetype": "text/x-python",
   "name": "python",
   "nbconvert_exporter": "python",
   "pygments_lexer": "ipython3",
   "version": "3.9.7"
  }
 },
 "nbformat": 4,
 "nbformat_minor": 5
}
